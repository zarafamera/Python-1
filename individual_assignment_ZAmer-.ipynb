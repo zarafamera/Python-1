{
 "cells": [
  {
   "cell_type": "markdown",
   "metadata": {},
   "source": [
    "## Individual assignment\n",
    "\n",
    "**Humanity has finally reached Mars. There are 4 colonies, and the humans are more or less adapting to life there**\n",
    "\n",
    "The 4 cities are called `Yharnam`, `Marsdrid`, `Ironforge` and `Churroland`. Each city has its own `population`.\n",
    "```python\n",
    "population = {\n",
    "    'Yharnam': 1000,\n",
    "    'Marsdrid': 2000,\n",
    "    'Ironforge': 3000,\n",
    "    'Churroland': 4000,\n",
    "}\n",
    "``` \n",
    "\n",
    "The cities are all connected to each other, with different `distances` between them (see attached PDF). There are also important points for life, like the three water sources, or wells. There's also a volcano that the Mars Geological Survey is monitoring. All these landmarks are defined by their coordinates, which are given in the `landmarks` dictionary. \n",
    "    \n",
    "```python\n",
    "# coordinates in kilometers\n",
    "landmarks = {\n",
    "    'Yharnam': (0, 0),\n",
    "    'Marsdrid': (0, 150),\n",
    "    'Ironforge': (100, 50),\n",
    "    'Churroland': (150, 100),\n",
    "    'Well 1': (0, 50),\n",
    "    'Well 2': (0, 100),\n",
    "    'Well 3': (100, 100),\n",
    "    'Volcano': (50, 100),\n",
    "}\n",
    "```\n",
    "\n",
    "Rules:\n",
    "* You can use any of the tools we have seen in class, nothing else.\n",
    "* You can't share your code with anyone else.\n",
    "* 1 point per correctly solved exercise.\n",
    "* No points deducted from incorrect answers.\n",
    "* **SUBMISSION:**\n",
    "  * ONE (1) JUPYTER NOTEBOOK, based on this one, with your name as the filename:\n",
    "    * `individual_assignment_daniel_garcia_hernandez.ipynb`\n",
    "  * No submission will be accepted after the deadline.\n",
    "  * No submission will be accepted if the description of the exercises is changed\n",
    "  * No submission will be accepted if the order of the exervises is changed"
   ]
  },
  {
   "cell_type": "code",
   "execution_count": 1,
   "metadata": {},
   "outputs": [],
   "source": [
    "population = {\n",
    "    'Yharnam': 1000,\n",
    "    'Marsdrid': 2000,\n",
    "    'Ironforge': 3000,\n",
    "    'Churroland': 4000,\n",
    "}\n",
    "\n",
    "landmarks = {\n",
    "    'Yharnam': (0, 0),\n",
    "    'Marsdrid': (0, 150),\n",
    "    'Ironforge': (100, 50),\n",
    "    'Churroland': (150, 100),\n",
    "    'Well 1': (0, 50),\n",
    "    'Well 2': (0, 100),\n",
    "    'Well 3': (100, 100),\n",
    "    'Volcano': (50, 100),\n",
    "}"
   ]
  },
  {
   "cell_type": "markdown",
   "metadata": {},
   "source": [
    "### Exercise 1\n",
    "\n",
    "Knowing that we can calculate the distance between two points in 2-dimensional space using the formula:\n",
    "$$d = \\sqrt{(x_2 - x_1)^2 + (y_2 - y_1)^2}$$\n",
    "write a function that takes two points as input and returns the distance between them.\n",
    "\n",
    "Each point should be a tuple of two numbers `(x, y)` representing the two coordinates --horizontal and vertical-- of the point.\n",
    "\n",
    "```python\n",
    "def distance(point1, point2):\n",
    "    # Your code here\n",
    "    return distance\n",
    "```"
   ]
  },
  {
   "cell_type": "code",
   "execution_count": 2,
   "metadata": {},
   "outputs": [],
   "source": [
    "import math"
   ]
  },
  {
   "cell_type": "code",
   "execution_count": 3,
   "metadata": {},
   "outputs": [
    {
     "data": {
      "text/plain": [
       "111.80339887498948"
      ]
     },
     "execution_count": 3,
     "metadata": {},
     "output_type": "execute_result"
    }
   ],
   "source": [
    "distance = 0\n",
    "\n",
    "def distance(point_1, point_2):\n",
    "    distance = math.sqrt(((point_2[0] - point_1[0])**2) + ((point_2[1] - point_1[1])**2))\n",
    "    return distance\n",
    "\n",
    "point_1 = (0, 100)\n",
    "point_2 = (100, 150)\n",
    "\n",
    "distance(point_1, point_2)"
   ]
  },
  {
   "cell_type": "markdown",
   "metadata": {},
   "source": [
    "### Exercise 2\n",
    "\n",
    "Now that we know how to calculate the distance between two points, we can calculate the distance between two landmarks. \n",
    "\n",
    "Write a function that takes the followning arguments:\n",
    "* `landmarks`: a dictionary with the coordinates of the landmarks\n",
    "* `landmarks_list`: a list of the landmarks we want to calculate the distance between. It should be a list of 2 strings, where each string is the name of a landmark.\n",
    "\n",
    "and returns the distance between them, using the function you wrote in the previous exercise.\n",
    "\n",
    "```python\n",
    "def distance_between_landmarks(landmarks, landmarks_list):\n",
    "    # Your code here using the distance function from exercise 1\n",
    "    return distance\n",
    "```"
   ]
  },
  {
   "cell_type": "code",
   "execution_count": 4,
   "metadata": {},
   "outputs": [
    {
     "data": {
      "text/plain": [
       "70.71067811865476"
      ]
     },
     "execution_count": 4,
     "metadata": {},
     "output_type": "execute_result"
    }
   ],
   "source": [
    "landmarks_list = [\"Marsdrid\", \"Volcano\"]\n",
    "\n",
    "def distance_between_landmarks(landmarks, landmarks_list):\n",
    "    point_x = landmarks.get(landmarks_list[0])\n",
    "    point_y = landmarks.get(landmarks_list[1]) \n",
    "    landmark_distance = distance(point_x, point_y)\n",
    "    return (landmark_distance) \n",
    "\n",
    "distance_between_landmarks(landmarks, landmarks_list)\n"
   ]
  },
  {
   "cell_type": "markdown",
   "metadata": {},
   "source": [
    "### Exercise 3\n",
    "\n",
    "Let's analyze which city has a better access to water. To do so, we need to calculate the distance between each city and each well, and then average the distances.\n",
    "\n",
    "We can do this by using a double `for` loop:\n",
    "\n",
    "```python\n",
    "dict_of_avg_distances = {}\n",
    "\n",
    "for city in cities:\n",
    "\n",
    "    distances_to_wells = []\n",
    "\n",
    "    for well in wells:\n",
    "        \n",
    "        # Calculate distance between city and well\n",
    "        # save the distance in a list with append\n",
    "\n",
    "    # sum the 3 distances in the list and divide by 3 to calculate the average\n",
    "    # add the average distance to a dictionary where the key is the city and the value is the average distance to water.\n",
    "```\n"
   ]
  },
  {
   "cell_type": "code",
   "execution_count": 5,
   "metadata": {},
   "outputs": [
    {
     "data": {
      "text/plain": [
       "{'Marsdrid': 87.2677996249965,\n",
       " 'Yharnam': 97.14045207910317,\n",
       " 'Ironforge': 87.2677996249965,\n",
       " 'Churroland': 119.37129433613966}"
      ]
     },
     "execution_count": 5,
     "metadata": {},
     "output_type": "execute_result"
    }
   ],
   "source": [
    "dict_of_avg_distances = {}\n",
    "\n",
    "cities = ['Marsdrid', 'Yharnam' , 'Ironforge', 'Churroland']\n",
    "wells = ['Well 1', 'Well 2', 'Well 3']\n",
    "\n",
    "for city in cities:\n",
    "    \n",
    "    distances_to_wells = []\n",
    "    \n",
    "    for well in wells:\n",
    "        \n",
    "        distances_to_wells.append(distance(landmarks.get(city), landmarks.get(well)))\n",
    "        \n",
    "        dict_of_avg_distances [city]=sum(distances_to_wells)/3\n",
    "                                  \n",
    "dict_of_avg_distances         "
   ]
  },
  {
   "cell_type": "markdown",
   "metadata": {},
   "source": [
    "### Exercise 4\n",
    "\n",
    "Which city or cities have the best access to water? Which city or cities has the worst access to water?\n",
    "\n",
    "Hint: you can use the `min` and `max` functions to find the minimum and maximum values in a dictionary, passing the dictionary as an argument, and using the `key` argument to specify which value to use to find the minimum or maximum.\n",
    "\n",
    "```python\n",
    "dummy_dict = {\n",
    "    'city1': 10,\n",
    "    'city2': 20,\n",
    "    'city3': 30,\n",
    "}\n",
    "\n",
    "min_value = min(dummy_dict, key=dummy_dict.get)\n",
    "max_value = max(dummy_dict, key=dummy_dict.get)\n",
    "```\n",
    "Keep in mind that these functions will return the first key found with the minimum or maximum value, so if there are repeated values, it might not be the one you want."
   ]
  },
  {
   "cell_type": "code",
   "execution_count": 6,
   "metadata": {},
   "outputs": [
    {
     "name": "stdout",
     "output_type": "stream",
     "text": [
      "The cities with the best access to water are ['Marsdrid', 'Ironforge']\n",
      "The city with the worst access to water is ['Churroland']\n"
     ]
    }
   ],
   "source": [
    "Best_access = []\n",
    "Worst_access = []\n",
    "\n",
    "for key, values in dict_of_avg_distances.items():\n",
    "\n",
    "    if values == max(dict_of_avg_distances.values()):\n",
    "        \n",
    "        Worst_access.append(key)\n",
    "        \n",
    "    elif values == min(dict_of_avg_distances.values()):\n",
    "        \n",
    "        Best_access.append(key)\n",
    "        \n",
    "print ('The cities with the best access to water are', Best_access)\n",
    "print ('The city with the worst access to water is', Worst_access)"
   ]
  },
  {
   "cell_type": "markdown",
   "metadata": {},
   "source": [
    "### Exercise 5\n",
    "\n",
    "Now that we know which city has the best access to water, create a dictionary with the cities as keys and their distance to the volcano as values"
   ]
  },
  {
   "cell_type": "code",
   "execution_count": 7,
   "metadata": {},
   "outputs": [
    {
     "data": {
      "text/plain": [
       "{'Marsdrid': 70.71067811865476,\n",
       " 'Yharnam': 111.80339887498948,\n",
       " 'Ironforge': 70.71067811865476,\n",
       " 'Churroland': 100.0}"
      ]
     },
     "execution_count": 7,
     "metadata": {},
     "output_type": "execute_result"
    }
   ],
   "source": [
    "Dict_to_volcano = {}\n",
    "\n",
    "def distance_to_volcano():\n",
    "    \n",
    "    for city in cities:\n",
    "        Dict_to_volcano[city]=distance(landmarks.get(city), landmarks.get('Volcano'))\n",
    "        \n",
    "    return Dict_to_volcano\n",
    "\n",
    "distance_to_volcano()"
   ]
  },
  {
   "cell_type": "markdown",
   "metadata": {},
   "source": [
    "### Exercise 6\n",
    "\n",
    "The Geological Survey found that in case of an eruption, the explosion will have a radius between 75 and 110 km.\n",
    "* In the best case scenario, the explosion will be 75 km away from the volcano.\n",
    "* In the worst case scenario, the explosion will be 110 km away from the volcano.\n",
    "\n",
    "Knowing this, which city or cities are at risk of being destroyed by the volcano in the best case scenario? Which city or cities are at risk of being destroyed by the volcano in the worst case scenario?\n",
    "\n",
    "Write a function that takes in the `landmarks` and the explosion radii in each scenario, and returns which cities are at rist of being destroyed.\n",
    "\n",
    "```python\n",
    "def cities_at_risk(landmarks, [best_case_radius, worst_case_radius]):\n",
    "    # Your code here\n",
    "    return cities_at_risk_best_case, cities_at_risk_worst_case\n",
    "```"
   ]
  },
  {
   "cell_type": "code",
   "execution_count": 8,
   "metadata": {},
   "outputs": [],
   "source": [
    "best_case_radius = 75\n",
    "worst_case_radius = 110\n",
    "\n",
    "def cities_at_risk(landmarks, best_case_radius, worst_case_radius):\n",
    "    cities_at_risk_best_case = []\n",
    "    cities_at_risk_worst_case = []\n",
    "    \n",
    "    for key, values in Dict_to_volcano.items():\n",
    "\n",
    "        if values >= best_case_radius:\n",
    "            cities_at_risk_best_case.append(key)\n",
    "\n",
    "        if values >= worst_case_radius:\n",
    "            cities_at_risk_worst_case.append(key)\n",
    "        \n",
    "    return cities_at_risk_best_case, cities_at_risk_worst_case"
   ]
  },
  {
   "cell_type": "code",
   "execution_count": 9,
   "metadata": {},
   "outputs": [
    {
     "data": {
      "text/plain": [
       "(['Yharnam', 'Churroland'], ['Yharnam'])"
      ]
     },
     "execution_count": 9,
     "metadata": {},
     "output_type": "execute_result"
    }
   ],
   "source": [
    "cities_at_risk (landmarks, best_case_radius, worst_case_radius)"
   ]
  },
  {
   "cell_type": "markdown",
   "metadata": {},
   "source": [
    "### Exercise 7\n",
    "\n",
    "Our worst fears have come true. The volcano has increased its activity and our geologist have estimated the radius of explosion: 90 km.\n",
    "\n",
    "We need to evacuate the cities at risk. How many people will we have to evacuate?\n",
    "\n",
    "Adapt the previous function to return the number of people at risk, passing the `population` dictionary as an argument, as well as `landmarks` and the explosion radius.\n",
    "\n",
    "```python\n",
    "def population_to_evacuate(landmarks, population, explosion_radius):\n",
    "    # Your code here\n",
    "    return people_at_risk\n",
    "```"
   ]
  },
  {
   "cell_type": "code",
   "execution_count": 10,
   "metadata": {},
   "outputs": [
    {
     "data": {
      "text/plain": [
       "5000"
      ]
     },
     "execution_count": 10,
     "metadata": {},
     "output_type": "execute_result"
    }
   ],
   "source": [
    "explosion_radius = 90\n",
    "\n",
    "def population_to_evacuate(landmarks, population, explosion_radius):\n",
    "    people_at_risk = 0\n",
    "    for key, values in Dict_to_volcano.items():\n",
    "        if values <= explosion_radius:\n",
    "            people_at_risk += population.get(key)\n",
    "    return people_at_risk\n",
    "\n",
    "population_to_evacuate(landmarks, population, explosion_radius)"
   ]
  },
  {
   "cell_type": "code",
   "execution_count": 11,
   "metadata": {},
   "outputs": [
    {
     "name": "stdout",
     "output_type": "stream",
     "text": [
      "5000\n"
     ]
    }
   ],
   "source": [
    "#Another way to do it\n",
    "evacuate_cities = []\n",
    "people_at_risk = 0\n",
    "    \n",
    "for key, values in Dict_to_volcano.items():\n",
    "\n",
    "    if values < 90:\n",
    "        evacuate_cities.append(key)\n",
    "\n",
    "for city in evacuate_cities:\n",
    "    x = population[city]\n",
    "    people_at_risk += x\n",
    "print (people_at_risk)"
   ]
  },
  {
   "cell_type": "markdown",
   "metadata": {},
   "source": [
    "### Exercise 8\n",
    "\n",
    "Which cities are the ones we need to evacuate? Which cities are the ones we can keep?\n",
    "\n",
    "Reuse the previous function to return a dictionary with `keep` and `evacuate` as keys, and the cities as values.\n",
    "\n",
    "```python\n",
    "dict_status = {\n",
    "    'keep': [city1, city2, city3],\n",
    "    'evacuate': [city4, city5, city6],\n",
    "}\n",
    "```\n",
    "\n",
    "```python\n",
    "def status_of_cities(landmarks, explosion_radius):\n",
    "    # Your code here\n",
    "    return dict_status\n",
    "```"
   ]
  },
  {
   "cell_type": "code",
   "execution_count": 12,
   "metadata": {},
   "outputs": [
    {
     "data": {
      "text/plain": [
       "{'keep': ['Yharnam', 'Churroland'], 'evacuate': ['Marsdrid', 'Ironforge']}"
      ]
     },
     "execution_count": 12,
     "metadata": {},
     "output_type": "execute_result"
    }
   ],
   "source": [
    "dict_status = {\n",
    "    'keep': [],\n",
    "    'evacuate': [],\n",
    "}\n",
    "\n",
    "def status_of_cities(landmarks, explosion_radius):\n",
    "    \n",
    "    for key, values in Dict_to_volcano.items():\n",
    "        if values <= explosion_radius:\n",
    "            dict_status['evacuate'].append(key)\n",
    "\n",
    "        if values >= explosion_radius:\n",
    "            dict_status['keep'].append(key)\n",
    "\n",
    "    return dict_status\n",
    "\n",
    "status_of_cities(landmarks, explosion_radius) "
   ]
  },
  {
   "cell_type": "markdown",
   "metadata": {},
   "source": [
    "### Exercise 9: open-ended\n",
    "\n",
    "What's the best way to evacuate the cities? Let's think of the difficulty for the evacuation as the product of the population to be evacuated and the distance to which they're being evacuated.\n",
    "\n",
    "```python\n",
    "difficulty = population_to_evacuate * distance_to_safety\n",
    "```\n",
    "\n",
    "We can evacuate all the population to the same city, or we can split the population between the cities, according to the distance between their original city and the city they're being evacuated to.\n",
    "\n",
    "Use code to back your decision."
   ]
  },
  {
   "cell_type": "code",
   "execution_count": 13,
   "metadata": {},
   "outputs": [
    {
     "data": {
      "text/plain": [
       "158.11388300841898"
      ]
     },
     "execution_count": 13,
     "metadata": {},
     "output_type": "execute_result"
    }
   ],
   "source": [
    "\"\"\"\n",
    "Comparision of at 'KEEP' cities with 'EVACUATE' cities\n",
    "\n",
    "I am going to take the distance between the cities and evacuate people to the closest city to \n",
    "reduce difficulty since higher the distance to safety, higher the difficulty\n",
    "\"\"\"\n",
    "landmarks_list = [\"Marsdrid\", \"Churroland\"]\n",
    "\n",
    "def distance_between_landmarks(landmarks, landmarks_list):\n",
    "    point_x = landmarks.get(landmarks_list[0])\n",
    "    point_y = landmarks.get(landmarks_list[1]) \n",
    "    landmark_distance = distance(point_x, point_y)\n",
    "    return (landmark_distance) \n",
    "\n",
    "distance_between_landmarks(landmarks, landmarks_list)"
   ]
  },
  {
   "cell_type": "code",
   "execution_count": 14,
   "metadata": {},
   "outputs": [
    {
     "data": {
      "text/plain": [
       "150.0"
      ]
     },
     "execution_count": 14,
     "metadata": {},
     "output_type": "execute_result"
    }
   ],
   "source": [
    "landmarks_list = [\"Marsdrid\", \"Yharnam\"]\n",
    "\n",
    "def distance_between_landmarks(landmarks, landmarks_list):\n",
    "    point_x = landmarks.get(landmarks_list[0])\n",
    "    point_y = landmarks.get(landmarks_list[1]) \n",
    "    landmark_distance = distance(point_x, point_y)\n",
    "    return (landmark_distance) \n",
    "\n",
    "distance_between_landmarks(landmarks, landmarks_list)"
   ]
  },
  {
   "cell_type": "code",
   "execution_count": 15,
   "metadata": {},
   "outputs": [
    {
     "data": {
      "text/plain": [
       "111.80339887498948"
      ]
     },
     "execution_count": 15,
     "metadata": {},
     "output_type": "execute_result"
    }
   ],
   "source": [
    "landmarks_list = [\"Ironforge\", \"Yharnam\"]\n",
    "\n",
    "def distance_between_landmarks(landmarks, landmarks_list):\n",
    "    point_x = landmarks.get(landmarks_list[0])\n",
    "    point_y = landmarks.get(landmarks_list[1]) \n",
    "    landmark_distance = distance(point_x, point_y)\n",
    "    return (landmark_distance) \n",
    "\n",
    "distance_between_landmarks(landmarks, landmarks_list)"
   ]
  },
  {
   "cell_type": "code",
   "execution_count": 16,
   "metadata": {},
   "outputs": [
    {
     "data": {
      "text/plain": [
       "70.71067811865476"
      ]
     },
     "execution_count": 16,
     "metadata": {},
     "output_type": "execute_result"
    }
   ],
   "source": [
    "landmarks_list = [\"Ironforge\", \"Churroland\"]\n",
    "\n",
    "def distance_between_landmarks(landmarks, landmarks_list):\n",
    "    point_x = landmarks.get(landmarks_list[0])\n",
    "    point_y = landmarks.get(landmarks_list[1]) \n",
    "    landmark_distance = distance(point_x, point_y)\n",
    "    return (landmark_distance) \n",
    "\n",
    "distance_between_landmarks(landmarks, landmarks_list)"
   ]
  },
  {
   "cell_type": "code",
   "execution_count": 17,
   "metadata": {
    "scrolled": true
   },
   "outputs": [
    {
     "data": {
      "text/plain": [
       "300000.0"
      ]
     },
     "execution_count": 17,
     "metadata": {},
     "output_type": "execute_result"
    }
   ],
   "source": [
    "\"\"\"\n",
    "From the the result above, we can see that people from Marsdrid can be evacuated to Yharnam.\n",
    "& people from Ironforge can be evacuated to Churroland based on the distances.\n",
    "\"\"\"\n",
    "\n",
    "#Difficulty of moving people of Marsdrid\n",
    "difficulty1 = population['Marsdrid'] * distance_between_landmarks(landmarks,landmarks_list = [\"Marsdrid\", \"Yharnam\"])\n",
    "difficulty1"
   ]
  },
  {
   "cell_type": "code",
   "execution_count": 18,
   "metadata": {},
   "outputs": [
    {
     "data": {
      "text/plain": [
       "212132.03435596428"
      ]
     },
     "execution_count": 18,
     "metadata": {},
     "output_type": "execute_result"
    }
   ],
   "source": [
    "#Difficulty of moving people of Ironforge\n",
    "difficulty2 = population['Ironforge'] * distance_between_landmarks(landmarks,landmarks_list = [\"Ironforge\", \"Churroland\"])\n",
    "difficulty2"
   ]
  },
  {
   "cell_type": "code",
   "execution_count": 19,
   "metadata": {},
   "outputs": [
    {
     "data": {
      "text/plain": [
       "512132.0343559643"
      ]
     },
     "execution_count": 19,
     "metadata": {},
     "output_type": "execute_result"
    }
   ],
   "source": [
    "difficulty = difficulty1 + difficulty2\n",
    "difficulty #Total difficulty"
   ]
  },
  {
   "cell_type": "code",
   "execution_count": null,
   "metadata": {},
   "outputs": [],
   "source": []
  }
 ],
 "metadata": {
  "kernelspec": {
   "display_name": "Python 3 (ipykernel)",
   "language": "python",
   "name": "python3"
  },
  "language_info": {
   "codemirror_mode": {
    "name": "ipython",
    "version": 3
   },
   "file_extension": ".py",
   "mimetype": "text/x-python",
   "name": "python",
   "nbconvert_exporter": "python",
   "pygments_lexer": "ipython3",
   "version": "3.9.13"
  },
  "vscode": {
   "interpreter": {
    "hash": "a9f295c814a5ce7ff0b0a20f2b13117bfaf008fc7980e281f2c2bfa8e9ec0fbf"
   }
  }
 },
 "nbformat": 4,
 "nbformat_minor": 4
}
